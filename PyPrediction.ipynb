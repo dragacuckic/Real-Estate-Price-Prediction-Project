{
 "cells": [
  {
   "cell_type": "code",
   "execution_count": 1,
   "id": "e2fe0212",
   "metadata": {},
   "outputs": [],
   "source": [
    "import pandas as pd\n",
    "import numpy as np\n",
    "import matplotlib.pyplot as plt\n",
    "import seaborn as sb"
   ]
  },
  {
   "cell_type": "code",
   "execution_count": 2,
   "id": "a49565ff",
   "metadata": {},
   "outputs": [],
   "source": [
    "pd.set_option('display.max_rows', 500)\n",
    "pd.set_option('display.max_columns', 500)"
   ]
  },
  {
   "cell_type": "code",
   "execution_count": 3,
   "id": "4cb09011",
   "metadata": {},
   "outputs": [],
   "source": [
    "data = pd.read_csv('melb_data.csv')"
   ]
  },
  {
   "cell_type": "code",
   "execution_count": 4,
   "id": "75c7dee8",
   "metadata": {},
   "outputs": [
    {
     "data": {
      "text/html": [
       "<div>\n",
       "<style scoped>\n",
       "    .dataframe tbody tr th:only-of-type {\n",
       "        vertical-align: middle;\n",
       "    }\n",
       "\n",
       "    .dataframe tbody tr th {\n",
       "        vertical-align: top;\n",
       "    }\n",
       "\n",
       "    .dataframe thead th {\n",
       "        text-align: right;\n",
       "    }\n",
       "</style>\n",
       "<table border=\"1\" class=\"dataframe\">\n",
       "  <thead>\n",
       "    <tr style=\"text-align: right;\">\n",
       "      <th></th>\n",
       "      <th>Suburb</th>\n",
       "      <th>Address</th>\n",
       "      <th>Rooms</th>\n",
       "      <th>Type</th>\n",
       "      <th>Price</th>\n",
       "      <th>Method</th>\n",
       "      <th>SellerG</th>\n",
       "      <th>Date</th>\n",
       "      <th>Distance</th>\n",
       "      <th>Postcode</th>\n",
       "      <th>Bedroom2</th>\n",
       "      <th>Bathroom</th>\n",
       "      <th>Car</th>\n",
       "      <th>Landsize</th>\n",
       "      <th>BuildingArea</th>\n",
       "      <th>YearBuilt</th>\n",
       "      <th>CouncilArea</th>\n",
       "      <th>Lattitude</th>\n",
       "      <th>Longtitude</th>\n",
       "      <th>Regionname</th>\n",
       "      <th>Propertycount</th>\n",
       "    </tr>\n",
       "  </thead>\n",
       "  <tbody>\n",
       "    <tr>\n",
       "      <th>8948</th>\n",
       "      <td>Springvale</td>\n",
       "      <td>24 Garnsworthy St</td>\n",
       "      <td>3</td>\n",
       "      <td>h</td>\n",
       "      <td>752500.0</td>\n",
       "      <td>S</td>\n",
       "      <td>iSell</td>\n",
       "      <td>1/07/2017</td>\n",
       "      <td>20.8</td>\n",
       "      <td>3171.0</td>\n",
       "      <td>3.0</td>\n",
       "      <td>1.0</td>\n",
       "      <td>2.0</td>\n",
       "      <td>623.0</td>\n",
       "      <td>99.0</td>\n",
       "      <td>1950.0</td>\n",
       "      <td>Greater Dandenong</td>\n",
       "      <td>-37.94106</td>\n",
       "      <td>145.16193</td>\n",
       "      <td>South-Eastern Metropolitan</td>\n",
       "      <td>7412.0</td>\n",
       "    </tr>\n",
       "    <tr>\n",
       "      <th>11579</th>\n",
       "      <td>Aspendale</td>\n",
       "      <td>14 Ebb St</td>\n",
       "      <td>3</td>\n",
       "      <td>h</td>\n",
       "      <td>970000.0</td>\n",
       "      <td>VB</td>\n",
       "      <td>hockingstuart</td>\n",
       "      <td>22/07/2017</td>\n",
       "      <td>21.5</td>\n",
       "      <td>3195.0</td>\n",
       "      <td>4.0</td>\n",
       "      <td>2.0</td>\n",
       "      <td>2.0</td>\n",
       "      <td>612.0</td>\n",
       "      <td>154.0</td>\n",
       "      <td>1960.0</td>\n",
       "      <td>Kingston</td>\n",
       "      <td>-38.01596</td>\n",
       "      <td>145.09932</td>\n",
       "      <td>South-Eastern Metropolitan</td>\n",
       "      <td>2824.0</td>\n",
       "    </tr>\n",
       "    <tr>\n",
       "      <th>7545</th>\n",
       "      <td>Braybrook</td>\n",
       "      <td>96 Duke St</td>\n",
       "      <td>2</td>\n",
       "      <td>h</td>\n",
       "      <td>610000.0</td>\n",
       "      <td>S</td>\n",
       "      <td>Barry</td>\n",
       "      <td>6/05/2017</td>\n",
       "      <td>10.8</td>\n",
       "      <td>3019.0</td>\n",
       "      <td>2.0</td>\n",
       "      <td>1.0</td>\n",
       "      <td>2.0</td>\n",
       "      <td>555.0</td>\n",
       "      <td>74.0</td>\n",
       "      <td>1950.0</td>\n",
       "      <td>Maribyrnong</td>\n",
       "      <td>-37.78540</td>\n",
       "      <td>144.84630</td>\n",
       "      <td>Western Metropolitan</td>\n",
       "      <td>3589.0</td>\n",
       "    </tr>\n",
       "    <tr>\n",
       "      <th>7160</th>\n",
       "      <td>Murrumbeena</td>\n",
       "      <td>8/145 Murrumbeena Rd</td>\n",
       "      <td>2</td>\n",
       "      <td>u</td>\n",
       "      <td>435000.0</td>\n",
       "      <td>PI</td>\n",
       "      <td>Woodards</td>\n",
       "      <td>28/08/2016</td>\n",
       "      <td>12.1</td>\n",
       "      <td>3163.0</td>\n",
       "      <td>2.0</td>\n",
       "      <td>1.0</td>\n",
       "      <td>1.0</td>\n",
       "      <td>0.0</td>\n",
       "      <td>NaN</td>\n",
       "      <td>1970.0</td>\n",
       "      <td>Glen Eira</td>\n",
       "      <td>-37.89410</td>\n",
       "      <td>145.06550</td>\n",
       "      <td>Southern Metropolitan</td>\n",
       "      <td>4442.0</td>\n",
       "    </tr>\n",
       "    <tr>\n",
       "      <th>5475</th>\n",
       "      <td>Rosanna</td>\n",
       "      <td>14 Milford Gr</td>\n",
       "      <td>4</td>\n",
       "      <td>h</td>\n",
       "      <td>1720000.0</td>\n",
       "      <td>S</td>\n",
       "      <td>Miles</td>\n",
       "      <td>27/11/2016</td>\n",
       "      <td>11.4</td>\n",
       "      <td>3084.0</td>\n",
       "      <td>4.0</td>\n",
       "      <td>4.0</td>\n",
       "      <td>2.0</td>\n",
       "      <td>1215.0</td>\n",
       "      <td>NaN</td>\n",
       "      <td>NaN</td>\n",
       "      <td>Banyule</td>\n",
       "      <td>-37.73870</td>\n",
       "      <td>145.07290</td>\n",
       "      <td>Eastern Metropolitan</td>\n",
       "      <td>3540.0</td>\n",
       "    </tr>\n",
       "  </tbody>\n",
       "</table>\n",
       "</div>"
      ],
      "text/plain": [
       "            Suburb               Address  Rooms Type      Price Method  \\\n",
       "8948    Springvale     24 Garnsworthy St      3    h   752500.0      S   \n",
       "11579    Aspendale             14 Ebb St      3    h   970000.0     VB   \n",
       "7545     Braybrook            96 Duke St      2    h   610000.0      S   \n",
       "7160   Murrumbeena  8/145 Murrumbeena Rd      2    u   435000.0     PI   \n",
       "5475       Rosanna         14 Milford Gr      4    h  1720000.0      S   \n",
       "\n",
       "             SellerG        Date  Distance  Postcode  Bedroom2  Bathroom  Car  \\\n",
       "8948           iSell   1/07/2017      20.8    3171.0       3.0       1.0  2.0   \n",
       "11579  hockingstuart  22/07/2017      21.5    3195.0       4.0       2.0  2.0   \n",
       "7545           Barry   6/05/2017      10.8    3019.0       2.0       1.0  2.0   \n",
       "7160        Woodards  28/08/2016      12.1    3163.0       2.0       1.0  1.0   \n",
       "5475           Miles  27/11/2016      11.4    3084.0       4.0       4.0  2.0   \n",
       "\n",
       "       Landsize  BuildingArea  YearBuilt        CouncilArea  Lattitude  \\\n",
       "8948      623.0          99.0     1950.0  Greater Dandenong  -37.94106   \n",
       "11579     612.0         154.0     1960.0           Kingston  -38.01596   \n",
       "7545      555.0          74.0     1950.0        Maribyrnong  -37.78540   \n",
       "7160        0.0           NaN     1970.0          Glen Eira  -37.89410   \n",
       "5475     1215.0           NaN        NaN            Banyule  -37.73870   \n",
       "\n",
       "       Longtitude                  Regionname  Propertycount  \n",
       "8948    145.16193  South-Eastern Metropolitan         7412.0  \n",
       "11579   145.09932  South-Eastern Metropolitan         2824.0  \n",
       "7545    144.84630        Western Metropolitan         3589.0  \n",
       "7160    145.06550       Southern Metropolitan         4442.0  \n",
       "5475    145.07290        Eastern Metropolitan         3540.0  "
      ]
     },
     "execution_count": 4,
     "metadata": {},
     "output_type": "execute_result"
    }
   ],
   "source": [
    "data.sample(5)"
   ]
  },
  {
   "cell_type": "code",
   "execution_count": 5,
   "id": "91ee1c1a",
   "metadata": {},
   "outputs": [
    {
     "data": {
      "text/plain": [
       "(13580, 21)"
      ]
     },
     "execution_count": 5,
     "metadata": {},
     "output_type": "execute_result"
    }
   ],
   "source": [
    "data.shape"
   ]
  },
  {
   "cell_type": "code",
   "execution_count": 6,
   "id": "d1f17a21",
   "metadata": {},
   "outputs": [
    {
     "name": "stdout",
     "output_type": "stream",
     "text": [
      "<class 'pandas.core.frame.DataFrame'>\n",
      "RangeIndex: 13580 entries, 0 to 13579\n",
      "Data columns (total 21 columns):\n",
      " #   Column         Non-Null Count  Dtype  \n",
      "---  ------         --------------  -----  \n",
      " 0   Suburb         13580 non-null  object \n",
      " 1   Address        13580 non-null  object \n",
      " 2   Rooms          13580 non-null  int64  \n",
      " 3   Type           13580 non-null  object \n",
      " 4   Price          13580 non-null  float64\n",
      " 5   Method         13580 non-null  object \n",
      " 6   SellerG        13580 non-null  object \n",
      " 7   Date           13580 non-null  object \n",
      " 8   Distance       13580 non-null  float64\n",
      " 9   Postcode       13580 non-null  float64\n",
      " 10  Bedroom2       13580 non-null  float64\n",
      " 11  Bathroom       13580 non-null  float64\n",
      " 12  Car            13518 non-null  float64\n",
      " 13  Landsize       13580 non-null  float64\n",
      " 14  BuildingArea   7130 non-null   float64\n",
      " 15  YearBuilt      8205 non-null   float64\n",
      " 16  CouncilArea    12211 non-null  object \n",
      " 17  Lattitude      13580 non-null  float64\n",
      " 18  Longtitude     13580 non-null  float64\n",
      " 19  Regionname     13580 non-null  object \n",
      " 20  Propertycount  13580 non-null  float64\n",
      "dtypes: float64(12), int64(1), object(8)\n",
      "memory usage: 2.2+ MB\n"
     ]
    }
   ],
   "source": [
    "data.info()"
   ]
  },
  {
   "cell_type": "code",
   "execution_count": 7,
   "id": "c63ccfa8",
   "metadata": {},
   "outputs": [
    {
     "data": {
      "text/html": [
       "<div>\n",
       "<style scoped>\n",
       "    .dataframe tbody tr th:only-of-type {\n",
       "        vertical-align: middle;\n",
       "    }\n",
       "\n",
       "    .dataframe tbody tr th {\n",
       "        vertical-align: top;\n",
       "    }\n",
       "\n",
       "    .dataframe thead th {\n",
       "        text-align: right;\n",
       "    }\n",
       "</style>\n",
       "<table border=\"1\" class=\"dataframe\">\n",
       "  <thead>\n",
       "    <tr style=\"text-align: right;\">\n",
       "      <th></th>\n",
       "      <th>Rooms</th>\n",
       "      <th>Price</th>\n",
       "      <th>Distance</th>\n",
       "      <th>Postcode</th>\n",
       "      <th>Bedroom2</th>\n",
       "      <th>Bathroom</th>\n",
       "      <th>Car</th>\n",
       "      <th>Landsize</th>\n",
       "      <th>BuildingArea</th>\n",
       "      <th>YearBuilt</th>\n",
       "      <th>Lattitude</th>\n",
       "      <th>Longtitude</th>\n",
       "      <th>Propertycount</th>\n",
       "    </tr>\n",
       "  </thead>\n",
       "  <tbody>\n",
       "    <tr>\n",
       "      <th>6205</th>\n",
       "      <td>3</td>\n",
       "      <td>1290000.0</td>\n",
       "      <td>13.8</td>\n",
       "      <td>3107.0</td>\n",
       "      <td>3.0</td>\n",
       "      <td>1.0</td>\n",
       "      <td>2.0</td>\n",
       "      <td>900.0</td>\n",
       "      <td>125.0</td>\n",
       "      <td>1960.0</td>\n",
       "      <td>-37.76400</td>\n",
       "      <td>145.10970</td>\n",
       "      <td>5420.0</td>\n",
       "    </tr>\n",
       "    <tr>\n",
       "      <th>12408</th>\n",
       "      <td>2</td>\n",
       "      <td>732500.0</td>\n",
       "      <td>10.5</td>\n",
       "      <td>3020.0</td>\n",
       "      <td>2.0</td>\n",
       "      <td>1.0</td>\n",
       "      <td>3.0</td>\n",
       "      <td>630.0</td>\n",
       "      <td>NaN</td>\n",
       "      <td>NaN</td>\n",
       "      <td>-37.76701</td>\n",
       "      <td>144.84444</td>\n",
       "      <td>4217.0</td>\n",
       "    </tr>\n",
       "    <tr>\n",
       "      <th>10794</th>\n",
       "      <td>2</td>\n",
       "      <td>820000.0</td>\n",
       "      <td>8.4</td>\n",
       "      <td>3072.0</td>\n",
       "      <td>2.0</td>\n",
       "      <td>1.0</td>\n",
       "      <td>1.0</td>\n",
       "      <td>155.0</td>\n",
       "      <td>NaN</td>\n",
       "      <td>NaN</td>\n",
       "      <td>-37.75024</td>\n",
       "      <td>145.00413</td>\n",
       "      <td>14577.0</td>\n",
       "    </tr>\n",
       "    <tr>\n",
       "      <th>9733</th>\n",
       "      <td>3</td>\n",
       "      <td>500000.0</td>\n",
       "      <td>14.0</td>\n",
       "      <td>3021.0</td>\n",
       "      <td>3.0</td>\n",
       "      <td>1.0</td>\n",
       "      <td>1.0</td>\n",
       "      <td>388.0</td>\n",
       "      <td>95.0</td>\n",
       "      <td>1992.0</td>\n",
       "      <td>-37.73163</td>\n",
       "      <td>144.80697</td>\n",
       "      <td>14042.0</td>\n",
       "    </tr>\n",
       "    <tr>\n",
       "      <th>592</th>\n",
       "      <td>4</td>\n",
       "      <td>1900000.0</td>\n",
       "      <td>9.2</td>\n",
       "      <td>3104.0</td>\n",
       "      <td>4.0</td>\n",
       "      <td>2.0</td>\n",
       "      <td>2.0</td>\n",
       "      <td>642.0</td>\n",
       "      <td>215.0</td>\n",
       "      <td>1955.0</td>\n",
       "      <td>-37.79880</td>\n",
       "      <td>145.07260</td>\n",
       "      <td>7809.0</td>\n",
       "    </tr>\n",
       "  </tbody>\n",
       "</table>\n",
       "</div>"
      ],
      "text/plain": [
       "       Rooms      Price  Distance  Postcode  Bedroom2  Bathroom  Car  \\\n",
       "6205       3  1290000.0      13.8    3107.0       3.0       1.0  2.0   \n",
       "12408      2   732500.0      10.5    3020.0       2.0       1.0  3.0   \n",
       "10794      2   820000.0       8.4    3072.0       2.0       1.0  1.0   \n",
       "9733       3   500000.0      14.0    3021.0       3.0       1.0  1.0   \n",
       "592        4  1900000.0       9.2    3104.0       4.0       2.0  2.0   \n",
       "\n",
       "       Landsize  BuildingArea  YearBuilt  Lattitude  Longtitude  Propertycount  \n",
       "6205      900.0         125.0     1960.0  -37.76400   145.10970         5420.0  \n",
       "12408     630.0           NaN        NaN  -37.76701   144.84444         4217.0  \n",
       "10794     155.0           NaN        NaN  -37.75024   145.00413        14577.0  \n",
       "9733      388.0          95.0     1992.0  -37.73163   144.80697        14042.0  \n",
       "592       642.0         215.0     1955.0  -37.79880   145.07260         7809.0  "
      ]
     },
     "execution_count": 7,
     "metadata": {},
     "output_type": "execute_result"
    }
   ],
   "source": [
    "numData = data.select_dtypes(['int64', 'float64'])\n",
    "numData.sample(5)"
   ]
  },
  {
   "cell_type": "code",
   "execution_count": 8,
   "id": "d7f90bc4",
   "metadata": {},
   "outputs": [
    {
     "data": {
      "text/html": [
       "<div>\n",
       "<style scoped>\n",
       "    .dataframe tbody tr th:only-of-type {\n",
       "        vertical-align: middle;\n",
       "    }\n",
       "\n",
       "    .dataframe tbody tr th {\n",
       "        vertical-align: top;\n",
       "    }\n",
       "\n",
       "    .dataframe thead th {\n",
       "        text-align: right;\n",
       "    }\n",
       "</style>\n",
       "<table border=\"1\" class=\"dataframe\">\n",
       "  <thead>\n",
       "    <tr style=\"text-align: right;\">\n",
       "      <th></th>\n",
       "      <th>Suburb</th>\n",
       "      <th>Address</th>\n",
       "      <th>Type</th>\n",
       "      <th>Method</th>\n",
       "      <th>SellerG</th>\n",
       "      <th>Date</th>\n",
       "      <th>CouncilArea</th>\n",
       "      <th>Regionname</th>\n",
       "    </tr>\n",
       "  </thead>\n",
       "  <tbody>\n",
       "    <tr>\n",
       "      <th>4900</th>\n",
       "      <td>Preston</td>\n",
       "      <td>32 Tyler St</td>\n",
       "      <td>h</td>\n",
       "      <td>S</td>\n",
       "      <td>Barry</td>\n",
       "      <td>7/05/2016</td>\n",
       "      <td>Darebin</td>\n",
       "      <td>Northern Metropolitan</td>\n",
       "    </tr>\n",
       "    <tr>\n",
       "      <th>4613</th>\n",
       "      <td>Pascoe Vale</td>\n",
       "      <td>2/2 Bellevue Tce</td>\n",
       "      <td>u</td>\n",
       "      <td>SP</td>\n",
       "      <td>Brad</td>\n",
       "      <td>7/05/2016</td>\n",
       "      <td>Moreland</td>\n",
       "      <td>Northern Metropolitan</td>\n",
       "    </tr>\n",
       "    <tr>\n",
       "      <th>8279</th>\n",
       "      <td>Preston</td>\n",
       "      <td>227 Wood St</td>\n",
       "      <td>h</td>\n",
       "      <td>S</td>\n",
       "      <td>Nelson</td>\n",
       "      <td>22/04/2017</td>\n",
       "      <td>Darebin</td>\n",
       "      <td>Northern Metropolitan</td>\n",
       "    </tr>\n",
       "    <tr>\n",
       "      <th>13044</th>\n",
       "      <td>Reservoir</td>\n",
       "      <td>49 Liston Av</td>\n",
       "      <td>h</td>\n",
       "      <td>S</td>\n",
       "      <td>HAR</td>\n",
       "      <td>19/08/2017</td>\n",
       "      <td>NaN</td>\n",
       "      <td>Northern Metropolitan</td>\n",
       "    </tr>\n",
       "    <tr>\n",
       "      <th>11018</th>\n",
       "      <td>Fawkner</td>\n",
       "      <td>50 Major Rd</td>\n",
       "      <td>h</td>\n",
       "      <td>S</td>\n",
       "      <td>hockingstuart</td>\n",
       "      <td>12/08/2017</td>\n",
       "      <td>Moreland</td>\n",
       "      <td>Northern Metropolitan</td>\n",
       "    </tr>\n",
       "  </tbody>\n",
       "</table>\n",
       "</div>"
      ],
      "text/plain": [
       "            Suburb           Address Type Method        SellerG        Date  \\\n",
       "4900       Preston       32 Tyler St    h      S          Barry   7/05/2016   \n",
       "4613   Pascoe Vale  2/2 Bellevue Tce    u     SP           Brad   7/05/2016   \n",
       "8279       Preston       227 Wood St    h      S         Nelson  22/04/2017   \n",
       "13044    Reservoir      49 Liston Av    h      S            HAR  19/08/2017   \n",
       "11018      Fawkner       50 Major Rd    h      S  hockingstuart  12/08/2017   \n",
       "\n",
       "      CouncilArea             Regionname  \n",
       "4900      Darebin  Northern Metropolitan  \n",
       "4613     Moreland  Northern Metropolitan  \n",
       "8279      Darebin  Northern Metropolitan  \n",
       "13044         NaN  Northern Metropolitan  \n",
       "11018    Moreland  Northern Metropolitan  "
      ]
     },
     "execution_count": 8,
     "metadata": {},
     "output_type": "execute_result"
    }
   ],
   "source": [
    "catData = data.select_dtypes('object')\n",
    "catData.sample(5)"
   ]
  },
  {
   "cell_type": "code",
   "execution_count": 9,
   "id": "518250e0",
   "metadata": {},
   "outputs": [
    {
     "data": {
      "text/plain": [
       "Suburb           314\n",
       "Address        13378\n",
       "Type               3\n",
       "Method             5\n",
       "SellerG          268\n",
       "Date              58\n",
       "CouncilArea       33\n",
       "Regionname         8\n",
       "dtype: int64"
      ]
     },
     "execution_count": 9,
     "metadata": {},
     "output_type": "execute_result"
    }
   ],
   "source": [
    "catData.nunique()"
   ]
  },
  {
   "cell_type": "code",
   "execution_count": 10,
   "id": "82ca572a",
   "metadata": {},
   "outputs": [
    {
     "data": {
      "text/plain": [
       "Type\n",
       "h       9449\n",
       "u       3017\n",
       "t       1114\n",
       "dtype: int64"
      ]
     },
     "execution_count": 10,
     "metadata": {},
     "output_type": "execute_result"
    }
   ],
   "source": [
    "catData.value_counts(['Type'])"
   ]
  },
  {
   "cell_type": "markdown",
   "id": "379199f5",
   "metadata": {},
   "source": [
    "Izbacicemo Method atribut"
   ]
  },
  {
   "cell_type": "code",
   "execution_count": 11,
   "id": "6165d379",
   "metadata": {},
   "outputs": [
    {
     "data": {
      "text/plain": [
       "Method\n",
       "S     9022\n",
       "SP    1703\n",
       "PI    1564\n",
       "VB    1199\n",
       "SA      92\n",
       "dtype: int64"
      ]
     },
     "execution_count": 11,
     "metadata": {},
     "output_type": "execute_result"
    }
   ],
   "source": [
    "catData.value_counts('Method')"
   ]
  },
  {
   "cell_type": "code",
   "execution_count": 12,
   "id": "594d56c9",
   "metadata": {},
   "outputs": [
    {
     "data": {
      "text/plain": [
       "Rooms               0\n",
       "Price               0\n",
       "Distance            0\n",
       "Postcode            0\n",
       "Bedroom2            0\n",
       "Bathroom            0\n",
       "Car                62\n",
       "Landsize            0\n",
       "BuildingArea     6450\n",
       "YearBuilt        5375\n",
       "Lattitude           0\n",
       "Longtitude          0\n",
       "Propertycount       0\n",
       "dtype: int64"
      ]
     },
     "execution_count": 12,
     "metadata": {},
     "output_type": "execute_result"
    }
   ],
   "source": [
    "numData.isna().sum()"
   ]
  },
  {
   "cell_type": "code",
   "execution_count": 13,
   "id": "48478eda",
   "metadata": {},
   "outputs": [
    {
     "data": {
      "text/plain": [
       "(13580, 13)"
      ]
     },
     "execution_count": 13,
     "metadata": {},
     "output_type": "execute_result"
    }
   ],
   "source": [
    "numData.shape"
   ]
  },
  {
   "cell_type": "markdown",
   "id": "6e5e4384",
   "metadata": {},
   "source": [
    "uklanjanje atributa sa previse nedostajucih vrednosti"
   ]
  },
  {
   "cell_type": "code",
   "execution_count": 14,
   "id": "1909bfd7",
   "metadata": {},
   "outputs": [],
   "source": [
    "numData.drop(columns=['BuildingArea', 'YearBuilt'], inplace=True)"
   ]
  },
  {
   "cell_type": "code",
   "execution_count": 15,
   "id": "ded0955f",
   "metadata": {},
   "outputs": [
    {
     "data": {
      "text/html": [
       "<div>\n",
       "<style scoped>\n",
       "    .dataframe tbody tr th:only-of-type {\n",
       "        vertical-align: middle;\n",
       "    }\n",
       "\n",
       "    .dataframe tbody tr th {\n",
       "        vertical-align: top;\n",
       "    }\n",
       "\n",
       "    .dataframe thead th {\n",
       "        text-align: right;\n",
       "    }\n",
       "</style>\n",
       "<table border=\"1\" class=\"dataframe\">\n",
       "  <thead>\n",
       "    <tr style=\"text-align: right;\">\n",
       "      <th></th>\n",
       "      <th>Rooms</th>\n",
       "      <th>Price</th>\n",
       "      <th>Distance</th>\n",
       "      <th>Postcode</th>\n",
       "      <th>Bedroom2</th>\n",
       "      <th>Bathroom</th>\n",
       "      <th>Car</th>\n",
       "      <th>Landsize</th>\n",
       "      <th>Lattitude</th>\n",
       "      <th>Longtitude</th>\n",
       "      <th>Propertycount</th>\n",
       "    </tr>\n",
       "  </thead>\n",
       "  <tbody>\n",
       "    <tr>\n",
       "      <th>2618</th>\n",
       "      <td>1</td>\n",
       "      <td>380000.0</td>\n",
       "      <td>4.4</td>\n",
       "      <td>3031.0</td>\n",
       "      <td>1.0</td>\n",
       "      <td>1.0</td>\n",
       "      <td>1.0</td>\n",
       "      <td>2077.0</td>\n",
       "      <td>-37.78520</td>\n",
       "      <td>144.92160</td>\n",
       "      <td>3593.0</td>\n",
       "    </tr>\n",
       "    <tr>\n",
       "      <th>9658</th>\n",
       "      <td>3</td>\n",
       "      <td>635000.0</td>\n",
       "      <td>22.7</td>\n",
       "      <td>3174.0</td>\n",
       "      <td>3.0</td>\n",
       "      <td>1.0</td>\n",
       "      <td>4.0</td>\n",
       "      <td>585.0</td>\n",
       "      <td>-37.97267</td>\n",
       "      <td>145.18262</td>\n",
       "      <td>11806.0</td>\n",
       "    </tr>\n",
       "    <tr>\n",
       "      <th>3856</th>\n",
       "      <td>2</td>\n",
       "      <td>1150000.0</td>\n",
       "      <td>11.2</td>\n",
       "      <td>3145.0</td>\n",
       "      <td>2.0</td>\n",
       "      <td>1.0</td>\n",
       "      <td>2.0</td>\n",
       "      <td>604.0</td>\n",
       "      <td>-37.88350</td>\n",
       "      <td>145.08860</td>\n",
       "      <td>8801.0</td>\n",
       "    </tr>\n",
       "    <tr>\n",
       "      <th>6055</th>\n",
       "      <td>3</td>\n",
       "      <td>560000.0</td>\n",
       "      <td>13.5</td>\n",
       "      <td>3020.0</td>\n",
       "      <td>3.0</td>\n",
       "      <td>1.0</td>\n",
       "      <td>3.0</td>\n",
       "      <td>582.0</td>\n",
       "      <td>-37.79060</td>\n",
       "      <td>144.79290</td>\n",
       "      <td>6763.0</td>\n",
       "    </tr>\n",
       "    <tr>\n",
       "      <th>6412</th>\n",
       "      <td>4</td>\n",
       "      <td>1010000.0</td>\n",
       "      <td>13.8</td>\n",
       "      <td>3084.0</td>\n",
       "      <td>4.0</td>\n",
       "      <td>3.0</td>\n",
       "      <td>2.0</td>\n",
       "      <td>669.0</td>\n",
       "      <td>-37.74190</td>\n",
       "      <td>145.08300</td>\n",
       "      <td>2698.0</td>\n",
       "    </tr>\n",
       "  </tbody>\n",
       "</table>\n",
       "</div>"
      ],
      "text/plain": [
       "      Rooms      Price  Distance  Postcode  Bedroom2  Bathroom  Car  Landsize  \\\n",
       "2618      1   380000.0       4.4    3031.0       1.0       1.0  1.0    2077.0   \n",
       "9658      3   635000.0      22.7    3174.0       3.0       1.0  4.0     585.0   \n",
       "3856      2  1150000.0      11.2    3145.0       2.0       1.0  2.0     604.0   \n",
       "6055      3   560000.0      13.5    3020.0       3.0       1.0  3.0     582.0   \n",
       "6412      4  1010000.0      13.8    3084.0       4.0       3.0  2.0     669.0   \n",
       "\n",
       "      Lattitude  Longtitude  Propertycount  \n",
       "2618  -37.78520   144.92160         3593.0  \n",
       "9658  -37.97267   145.18262        11806.0  \n",
       "3856  -37.88350   145.08860         8801.0  \n",
       "6055  -37.79060   144.79290         6763.0  \n",
       "6412  -37.74190   145.08300         2698.0  "
      ]
     },
     "execution_count": 15,
     "metadata": {},
     "output_type": "execute_result"
    }
   ],
   "source": [
    "numData.sample(5)"
   ]
  },
  {
   "cell_type": "code",
   "execution_count": 16,
   "id": "016c7df6",
   "metadata": {},
   "outputs": [
    {
     "data": {
      "text/plain": [
       "Rooms             0\n",
       "Price             0\n",
       "Distance          0\n",
       "Postcode          0\n",
       "Bedroom2          0\n",
       "Bathroom          0\n",
       "Car              62\n",
       "Landsize          0\n",
       "Lattitude         0\n",
       "Longtitude        0\n",
       "Propertycount     0\n",
       "dtype: int64"
      ]
     },
     "execution_count": 16,
     "metadata": {},
     "output_type": "execute_result"
    }
   ],
   "source": [
    "numData.isna().sum()"
   ]
  },
  {
   "cell_type": "code",
   "execution_count": 17,
   "id": "f8e501cb",
   "metadata": {},
   "outputs": [
    {
     "data": {
      "text/plain": [
       "Car\n",
       "2.0     5591\n",
       "1.0     5509\n",
       "0.0     1026\n",
       "3.0      748\n",
       "4.0      506\n",
       "5.0       63\n",
       "6.0       54\n",
       "8.0        9\n",
       "7.0        8\n",
       "10.0       3\n",
       "9.0        1\n",
       "dtype: int64"
      ]
     },
     "execution_count": 17,
     "metadata": {},
     "output_type": "execute_result"
    }
   ],
   "source": [
    "numData.value_counts(\"Car\")"
   ]
  },
  {
   "cell_type": "code",
   "execution_count": 18,
   "id": "b69dc84a",
   "metadata": {},
   "outputs": [
    {
     "data": {
      "text/plain": [
       "2.0"
      ]
     },
     "execution_count": 18,
     "metadata": {},
     "output_type": "execute_result"
    }
   ],
   "source": [
    "numData['Car'].median()"
   ]
  },
  {
   "cell_type": "code",
   "execution_count": 19,
   "id": "04d1ee14",
   "metadata": {},
   "outputs": [],
   "source": [
    "numData['Car'].fillna(value=numData['Car'].median(), inplace=True)"
   ]
  },
  {
   "cell_type": "code",
   "execution_count": 20,
   "id": "de3f344f",
   "metadata": {},
   "outputs": [
    {
     "data": {
      "text/plain": [
       "Rooms            0\n",
       "Price            0\n",
       "Distance         0\n",
       "Postcode         0\n",
       "Bedroom2         0\n",
       "Bathroom         0\n",
       "Car              0\n",
       "Landsize         0\n",
       "Lattitude        0\n",
       "Longtitude       0\n",
       "Propertycount    0\n",
       "dtype: int64"
      ]
     },
     "execution_count": 20,
     "metadata": {},
     "output_type": "execute_result"
    }
   ],
   "source": [
    "numData.isna().sum()"
   ]
  },
  {
   "cell_type": "code",
   "execution_count": 21,
   "id": "33e465f5",
   "metadata": {},
   "outputs": [
    {
     "data": {
      "text/plain": [
       "['Rooms',\n",
       " 'Price',\n",
       " 'Distance',\n",
       " 'Postcode',\n",
       " 'Bedroom2',\n",
       " 'Bathroom',\n",
       " 'Car',\n",
       " 'Landsize',\n",
       " 'Lattitude',\n",
       " 'Longtitude',\n",
       " 'Propertycount']"
      ]
     },
     "execution_count": 21,
     "metadata": {},
     "output_type": "execute_result"
    }
   ],
   "source": [
    "list(numData.columns)"
   ]
  },
  {
   "cell_type": "code",
   "execution_count": 23,
   "id": "6891567b",
   "metadata": {
    "scrolled": true
   },
   "outputs": [
    {
     "data": {
      "image/png": "[encoded data removed]",
      "text/plain": [
       "<Figure size 500x500 with 1 Axes>"
      ]
     },
     "metadata": {},
     "output_type": "display_data"
    },
    {
     "data": {
      "image/png": "[encoded data removed]",
      "text/plain": [
       "<Figure size 500x500 with 1 Axes>"
      ]
     },
     "metadata": {},
     "output_type": "display_data"
    },
    {
     "data": {
      "image/png": "[encoded data removed]",
      "text/plain": [
       "<Figure size 500x500 with 1 Axes>"
      ]
     },
     "metadata": {},
     "output_type": "display_data"
    },
    {
     "data": {
      "image/png": "[encoded data removed]",
      "text/plain": [
       "<Figure size 500x500 with 1 Axes>"
      ]
     },
     "metadata": {},
     "output_type": "display_data"
    },
    {
     "data": {
      "image/png": "[encoded data removed]",
      "text/plain": [
       "<Figure size 500x500 with 1 Axes>"
      ]
     },
     "metadata": {},
     "output_type": "display_data"
    },
    {
     "data": {
      "image/png": "[encoded data removed]",
      "text/plain": [
       "<Figure size 500x500 with 1 Axes>"
      ]
     },
     "metadata": {},
     "output_type": "display_data"
    },
    {
     "data": {
      "image/png": "[encoded data removed]",
      "text/plain": [
       "<Figure size 500x500 with 1 Axes>"
      ]
     },
     "metadata": {},
     "output_type": "display_data"
    },
    {
     "data": {
      "image/png": "[encoded data removed]",
      "text/plain": [
       "<Figure size 500x500 with 1 Axes>"
      ]
     },
     "metadata": {},
     "output_type": "display_data"
    },
    {
     "data": {
      "image/png": "[encoded data removed]",
      "text/plain": [
       "<Figure size 500x500 with 1 Axes>"
      ]
     },
     "metadata": {},
     "output_type": "display_data"
    },
    {
     "data": {
      "image/png": "[encoded data removed]",
      "text/plain": [
       "<Figure size 500x500 with 1 Axes>"
      ]
     },
     "metadata": {},
     "output_type": "display_data"
    },
    {
     "data": {
      "image/png": "[encoded data removed]",
      "text/plain": [
       "<Figure size 500x500 with 1 Axes>"
      ]
     },
     "metadata": {},
     "output_type": "display_data"
    }
   ],
   "source": [
    "for col in numData.columns:\n",
    "    sb.displot(numData[col])"
   ]
  },
  {
   "cell_type": "code",
   "execution_count": 24,
   "id": "ca5cd0ce",
   "metadata": {},
   "outputs": [],
   "source": [
    "numData.drop(columns=[\"Landsize\", \"Postcode\"], inplace=True)"
   ]
  },
  {
   "cell_type": "code",
   "execution_count": 25,
   "id": "afa85765",
   "metadata": {},
   "outputs": [
    {
     "data": {
      "text/html": [
       "<div>\n",
       "<style scoped>\n",
       "    .dataframe tbody tr th:only-of-type {\n",
       "        vertical-align: middle;\n",
       "    }\n",
       "\n",
       "    .dataframe tbody tr th {\n",
       "        vertical-align: top;\n",
       "    }\n",
       "\n",
       "    .dataframe thead th {\n",
       "        text-align: right;\n",
       "    }\n",
       "</style>\n",
       "<table border=\"1\" class=\"dataframe\">\n",
       "  <thead>\n",
       "    <tr style=\"text-align: right;\">\n",
       "      <th></th>\n",
       "      <th>Rooms</th>\n",
       "      <th>Price</th>\n",
       "      <th>Distance</th>\n",
       "      <th>Bedroom2</th>\n",
       "      <th>Bathroom</th>\n",
       "      <th>Car</th>\n",
       "      <th>Lattitude</th>\n",
       "      <th>Longtitude</th>\n",
       "      <th>Propertycount</th>\n",
       "    </tr>\n",
       "  </thead>\n",
       "  <tbody>\n",
       "    <tr>\n",
       "      <th>10553</th>\n",
       "      <td>3</td>\n",
       "      <td>597000.0</td>\n",
       "      <td>6.4</td>\n",
       "      <td>3.0</td>\n",
       "      <td>1.0</td>\n",
       "      <td>1.0</td>\n",
       "      <td>-37.80962</td>\n",
       "      <td>144.86877</td>\n",
       "      <td>5058.0</td>\n",
       "    </tr>\n",
       "    <tr>\n",
       "      <th>1339</th>\n",
       "      <td>2</td>\n",
       "      <td>350000.0</td>\n",
       "      <td>5.2</td>\n",
       "      <td>2.0</td>\n",
       "      <td>1.0</td>\n",
       "      <td>1.0</td>\n",
       "      <td>-37.76710</td>\n",
       "      <td>144.97020</td>\n",
       "      <td>11918.0</td>\n",
       "    </tr>\n",
       "    <tr>\n",
       "      <th>8306</th>\n",
       "      <td>2</td>\n",
       "      <td>490000.0</td>\n",
       "      <td>11.2</td>\n",
       "      <td>2.0</td>\n",
       "      <td>1.0</td>\n",
       "      <td>1.0</td>\n",
       "      <td>-37.69550</td>\n",
       "      <td>145.00970</td>\n",
       "      <td>21650.0</td>\n",
       "    </tr>\n",
       "    <tr>\n",
       "      <th>2901</th>\n",
       "      <td>2</td>\n",
       "      <td>340000.0</td>\n",
       "      <td>13.0</td>\n",
       "      <td>2.0</td>\n",
       "      <td>1.0</td>\n",
       "      <td>1.0</td>\n",
       "      <td>-37.70710</td>\n",
       "      <td>144.91760</td>\n",
       "      <td>8870.0</td>\n",
       "    </tr>\n",
       "    <tr>\n",
       "      <th>7051</th>\n",
       "      <td>3</td>\n",
       "      <td>1195000.0</td>\n",
       "      <td>10.6</td>\n",
       "      <td>3.0</td>\n",
       "      <td>1.0</td>\n",
       "      <td>1.0</td>\n",
       "      <td>-37.75070</td>\n",
       "      <td>145.06200</td>\n",
       "      <td>2890.0</td>\n",
       "    </tr>\n",
       "  </tbody>\n",
       "</table>\n",
       "</div>"
      ],
      "text/plain": [
       "       Rooms      Price  Distance  Bedroom2  Bathroom  Car  Lattitude  \\\n",
       "10553      3   597000.0       6.4       3.0       1.0  1.0  -37.80962   \n",
       "1339       2   350000.0       5.2       2.0       1.0  1.0  -37.76710   \n",
       "8306       2   490000.0      11.2       2.0       1.0  1.0  -37.69550   \n",
       "2901       2   340000.0      13.0       2.0       1.0  1.0  -37.70710   \n",
       "7051       3  1195000.0      10.6       3.0       1.0  1.0  -37.75070   \n",
       "\n",
       "       Longtitude  Propertycount  \n",
       "10553   144.86877         5058.0  \n",
       "1339    144.97020        11918.0  \n",
       "8306    145.00970        21650.0  \n",
       "2901    144.91760         8870.0  \n",
       "7051    145.06200         2890.0  "
      ]
     },
     "execution_count": 25,
     "metadata": {},
     "output_type": "execute_result"
    }
   ],
   "source": [
    "numData.sample(5)"
   ]
  },
  {
   "cell_type": "code",
   "execution_count": 26,
   "id": "c12395df",
   "metadata": {},
   "outputs": [],
   "source": [
    "corMat = numData.corr()"
   ]
  },
  {
   "cell_type": "code",
   "execution_count": 27,
   "id": "975d956e",
   "metadata": {},
   "outputs": [
    {
     "data": {
      "text/html": [
       "<div>\n",
       "<style scoped>\n",
       "    .dataframe tbody tr th:only-of-type {\n",
       "        vertical-align: middle;\n",
       "    }\n",
       "\n",
       "    .dataframe tbody tr th {\n",
       "        vertical-align: top;\n",
       "    }\n",
       "\n",
       "    .dataframe thead th {\n",
       "        text-align: right;\n",
       "    }\n",
       "</style>\n",
       "<table border=\"1\" class=\"dataframe\">\n",
       "  <thead>\n",
       "    <tr style=\"text-align: right;\">\n",
       "      <th></th>\n",
       "      <th>Rooms</th>\n",
       "      <th>Price</th>\n",
       "      <th>Distance</th>\n",
       "      <th>Bedroom2</th>\n",
       "      <th>Bathroom</th>\n",
       "      <th>Car</th>\n",
       "      <th>Lattitude</th>\n",
       "      <th>Longtitude</th>\n",
       "      <th>Propertycount</th>\n",
       "    </tr>\n",
       "  </thead>\n",
       "  <tbody>\n",
       "    <tr>\n",
       "      <th>Rooms</th>\n",
       "      <td>1.000000</td>\n",
       "      <td>0.496634</td>\n",
       "      <td>0.294203</td>\n",
       "      <td>0.944190</td>\n",
       "      <td>0.592934</td>\n",
       "      <td>0.406935</td>\n",
       "      <td>0.015948</td>\n",
       "      <td>0.100771</td>\n",
       "      <td>-0.081530</td>\n",
       "    </tr>\n",
       "    <tr>\n",
       "      <th>Price</th>\n",
       "      <td>0.496634</td>\n",
       "      <td>1.000000</td>\n",
       "      <td>-0.162522</td>\n",
       "      <td>0.475951</td>\n",
       "      <td>0.467038</td>\n",
       "      <td>0.239109</td>\n",
       "      <td>-0.212934</td>\n",
       "      <td>0.203656</td>\n",
       "      <td>-0.042153</td>\n",
       "    </tr>\n",
       "    <tr>\n",
       "      <th>Distance</th>\n",
       "      <td>0.294203</td>\n",
       "      <td>-0.162522</td>\n",
       "      <td>1.000000</td>\n",
       "      <td>0.295927</td>\n",
       "      <td>0.127155</td>\n",
       "      <td>0.260596</td>\n",
       "      <td>-0.130723</td>\n",
       "      <td>0.239425</td>\n",
       "      <td>-0.054910</td>\n",
       "    </tr>\n",
       "    <tr>\n",
       "      <th>Bedroom2</th>\n",
       "      <td>0.944190</td>\n",
       "      <td>0.475951</td>\n",
       "      <td>0.295927</td>\n",
       "      <td>1.000000</td>\n",
       "      <td>0.584685</td>\n",
       "      <td>0.403867</td>\n",
       "      <td>0.015925</td>\n",
       "      <td>0.102238</td>\n",
       "      <td>-0.081350</td>\n",
       "    </tr>\n",
       "    <tr>\n",
       "      <th>Bathroom</th>\n",
       "      <td>0.592934</td>\n",
       "      <td>0.467038</td>\n",
       "      <td>0.127155</td>\n",
       "      <td>0.584685</td>\n",
       "      <td>1.000000</td>\n",
       "      <td>0.321014</td>\n",
       "      <td>-0.070594</td>\n",
       "      <td>0.118971</td>\n",
       "      <td>-0.052201</td>\n",
       "    </tr>\n",
       "    <tr>\n",
       "      <th>Car</th>\n",
       "      <td>0.406935</td>\n",
       "      <td>0.239109</td>\n",
       "      <td>0.260596</td>\n",
       "      <td>0.403867</td>\n",
       "      <td>0.321014</td>\n",
       "      <td>1.000000</td>\n",
       "      <td>-0.002023</td>\n",
       "      <td>0.062929</td>\n",
       "      <td>-0.024344</td>\n",
       "    </tr>\n",
       "    <tr>\n",
       "      <th>Lattitude</th>\n",
       "      <td>0.015948</td>\n",
       "      <td>-0.212934</td>\n",
       "      <td>-0.130723</td>\n",
       "      <td>0.015925</td>\n",
       "      <td>-0.070594</td>\n",
       "      <td>-0.002023</td>\n",
       "      <td>1.000000</td>\n",
       "      <td>-0.357634</td>\n",
       "      <td>0.047086</td>\n",
       "    </tr>\n",
       "    <tr>\n",
       "      <th>Longtitude</th>\n",
       "      <td>0.100771</td>\n",
       "      <td>0.203656</td>\n",
       "      <td>0.239425</td>\n",
       "      <td>0.102238</td>\n",
       "      <td>0.118971</td>\n",
       "      <td>0.062929</td>\n",
       "      <td>-0.357634</td>\n",
       "      <td>1.000000</td>\n",
       "      <td>0.065988</td>\n",
       "    </tr>\n",
       "    <tr>\n",
       "      <th>Propertycount</th>\n",
       "      <td>-0.081530</td>\n",
       "      <td>-0.042153</td>\n",
       "      <td>-0.054910</td>\n",
       "      <td>-0.081350</td>\n",
       "      <td>-0.052201</td>\n",
       "      <td>-0.024344</td>\n",
       "      <td>0.047086</td>\n",
       "      <td>0.065988</td>\n",
       "      <td>1.000000</td>\n",
       "    </tr>\n",
       "  </tbody>\n",
       "</table>\n",
       "</div>"
      ],
      "text/plain": [
       "                  Rooms     Price  Distance  Bedroom2  Bathroom       Car  \\\n",
       "Rooms          1.000000  0.496634  0.294203  0.944190  0.592934  0.406935   \n",
       "Price          0.496634  1.000000 -0.162522  0.475951  0.467038  0.239109   \n",
       "Distance       0.294203 -0.162522  1.000000  0.295927  0.127155  0.260596   \n",
       "Bedroom2       0.944190  0.475951  0.295927  1.000000  0.584685  0.403867   \n",
       "Bathroom       0.592934  0.467038  0.127155  0.584685  1.000000  0.321014   \n",
       "Car            0.406935  0.239109  0.260596  0.403867  0.321014  1.000000   \n",
       "Lattitude      0.015948 -0.212934 -0.130723  0.015925 -0.070594 -0.002023   \n",
       "Longtitude     0.100771  0.203656  0.239425  0.102238  0.118971  0.062929   \n",
       "Propertycount -0.081530 -0.042153 -0.054910 -0.081350 -0.052201 -0.024344   \n",
       "\n",
       "               Lattitude  Longtitude  Propertycount  \n",
       "Rooms           0.015948    0.100771      -0.081530  \n",
       "Price          -0.212934    0.203656      -0.042153  \n",
       "Distance       -0.130723    0.239425      -0.054910  \n",
       "Bedroom2        0.015925    0.102238      -0.081350  \n",
       "Bathroom       -0.070594    0.118971      -0.052201  \n",
       "Car            -0.002023    0.062929      -0.024344  \n",
       "Lattitude       1.000000   -0.357634       0.047086  \n",
       "Longtitude     -0.357634    1.000000       0.065988  \n",
       "Propertycount   0.047086    0.065988       1.000000  "
      ]
     },
     "execution_count": 27,
     "metadata": {},
     "output_type": "execute_result"
    }
   ],
   "source": [
    "corMat"
   ]
  },
  {
   "cell_type": "code",
   "execution_count": 38,
   "id": "90dcc734",
   "metadata": {},
   "outputs": [
    {
     "data": {
      "text/plain": [
       "Rooms            0.496634\n",
       "Price            1.000000\n",
       "Distance        -0.162522\n",
       "Bedroom2         0.475951\n",
       "Bathroom         0.467038\n",
       "Car              0.239109\n",
       "Lattitude       -0.212934\n",
       "Longtitude       0.203656\n",
       "Propertycount   -0.042153\n",
       "Name: Price, dtype: float64"
      ]
     },
     "execution_count": 38,
     "metadata": {},
     "output_type": "execute_result"
    }
   ],
   "source": [
    "corMat['Price']"
   ]
  },
  {
   "cell_type": "code",
   "execution_count": 29,
   "id": "832494d3",
   "metadata": {},
   "outputs": [
    {
     "data": {
      "text/html": [
       "<div>\n",
       "<style scoped>\n",
       "    .dataframe tbody tr th:only-of-type {\n",
       "        vertical-align: middle;\n",
       "    }\n",
       "\n",
       "    .dataframe tbody tr th {\n",
       "        vertical-align: top;\n",
       "    }\n",
       "\n",
       "    .dataframe thead th {\n",
       "        text-align: right;\n",
       "    }\n",
       "</style>\n",
       "<table border=\"1\" class=\"dataframe\">\n",
       "  <thead>\n",
       "    <tr style=\"text-align: right;\">\n",
       "      <th></th>\n",
       "      <th>Rooms</th>\n",
       "      <th>Price</th>\n",
       "      <th>Bedroom2</th>\n",
       "      <th>Bathroom</th>\n",
       "      <th>Car</th>\n",
       "      <th>Lattitude</th>\n",
       "      <th>Longtitude</th>\n",
       "    </tr>\n",
       "  </thead>\n",
       "  <tbody>\n",
       "    <tr>\n",
       "      <th>5954</th>\n",
       "      <td>2</td>\n",
       "      <td>825000.0</td>\n",
       "      <td>2.0</td>\n",
       "      <td>1.0</td>\n",
       "      <td>3.0</td>\n",
       "      <td>-37.78180</td>\n",
       "      <td>144.83930</td>\n",
       "    </tr>\n",
       "    <tr>\n",
       "      <th>10050</th>\n",
       "      <td>3</td>\n",
       "      <td>1810000.0</td>\n",
       "      <td>3.0</td>\n",
       "      <td>2.0</td>\n",
       "      <td>2.0</td>\n",
       "      <td>-37.83860</td>\n",
       "      <td>144.99852</td>\n",
       "    </tr>\n",
       "    <tr>\n",
       "      <th>2391</th>\n",
       "      <td>2</td>\n",
       "      <td>520000.0</td>\n",
       "      <td>2.0</td>\n",
       "      <td>1.0</td>\n",
       "      <td>2.0</td>\n",
       "      <td>-37.74860</td>\n",
       "      <td>144.90720</td>\n",
       "    </tr>\n",
       "    <tr>\n",
       "      <th>10332</th>\n",
       "      <td>3</td>\n",
       "      <td>800000.0</td>\n",
       "      <td>3.0</td>\n",
       "      <td>1.0</td>\n",
       "      <td>0.0</td>\n",
       "      <td>-37.73752</td>\n",
       "      <td>145.05228</td>\n",
       "    </tr>\n",
       "    <tr>\n",
       "      <th>13246</th>\n",
       "      <td>2</td>\n",
       "      <td>1130000.0</td>\n",
       "      <td>2.0</td>\n",
       "      <td>1.0</td>\n",
       "      <td>2.0</td>\n",
       "      <td>-37.84332</td>\n",
       "      <td>144.87718</td>\n",
       "    </tr>\n",
       "  </tbody>\n",
       "</table>\n",
       "</div>"
      ],
      "text/plain": [
       "       Rooms      Price  Bedroom2  Bathroom  Car  Lattitude  Longtitude\n",
       "5954       2   825000.0       2.0       1.0  3.0  -37.78180   144.83930\n",
       "10050      3  1810000.0       3.0       2.0  2.0  -37.83860   144.99852\n",
       "2391       2   520000.0       2.0       1.0  2.0  -37.74860   144.90720\n",
       "10332      3   800000.0       3.0       1.0  0.0  -37.73752   145.05228\n",
       "13246      2  1130000.0       2.0       1.0  2.0  -37.84332   144.87718"
      ]
     },
     "execution_count": 29,
     "metadata": {},
     "output_type": "execute_result"
    }
   ],
   "source": [
    "numData.drop(columns=['Propertycount', 'Distance'], inplace=True)\n",
    "numData.sample(5)"
   ]
  },
  {
   "cell_type": "code",
   "execution_count": 42,
   "id": "6ed007f1",
   "metadata": {},
   "outputs": [],
   "source": [
    "from sklearn.preprocessing import StandardScaler"
   ]
  },
  {
   "cell_type": "code",
   "execution_count": 53,
   "id": "c250f862",
   "metadata": {},
   "outputs": [],
   "source": [
    "scaler = StandardScaler()\n",
    "scaledArray = scaler.fit_transform(numData)"
   ]
  },
  {
   "cell_type": "code",
   "execution_count": 54,
   "id": "5579fa4f",
   "metadata": {},
   "outputs": [],
   "source": [
    "scaledNumData = pd.DataFrame(scaledArray, columns=numData.columns)"
   ]
  },
  {
   "cell_type": "code",
   "execution_count": 55,
   "id": "60118821",
   "metadata": {},
   "outputs": [
    {
     "data": {
      "text/html": [
       "<div>\n",
       "<style scoped>\n",
       "    .dataframe tbody tr th:only-of-type {\n",
       "        vertical-align: middle;\n",
       "    }\n",
       "\n",
       "    .dataframe tbody tr th {\n",
       "        vertical-align: top;\n",
       "    }\n",
       "\n",
       "    .dataframe thead th {\n",
       "        text-align: right;\n",
       "    }\n",
       "</style>\n",
       "<table border=\"1\" class=\"dataframe\">\n",
       "  <thead>\n",
       "    <tr style=\"text-align: right;\">\n",
       "      <th></th>\n",
       "      <th>Rooms</th>\n",
       "      <th>Price</th>\n",
       "      <th>Bedroom2</th>\n",
       "      <th>Bathroom</th>\n",
       "      <th>Car</th>\n",
       "      <th>Lattitude</th>\n",
       "      <th>Longtitude</th>\n",
       "    </tr>\n",
       "  </thead>\n",
       "  <tbody>\n",
       "    <tr>\n",
       "      <th>2770</th>\n",
       "      <td>-0.981463</td>\n",
       "      <td>-1.039727</td>\n",
       "      <td>-0.947035</td>\n",
       "      <td>-0.772376</td>\n",
       "      <td>-0.636847</td>\n",
       "      <td>-0.514747</td>\n",
       "      <td>0.489683</td>\n",
       "    </tr>\n",
       "    <tr>\n",
       "      <th>4341</th>\n",
       "      <td>-0.981463</td>\n",
       "      <td>-0.546991</td>\n",
       "      <td>-0.947035</td>\n",
       "      <td>-0.772376</td>\n",
       "      <td>-0.636847</td>\n",
       "      <td>0.196863</td>\n",
       "      <td>-0.506355</td>\n",
       "    </tr>\n",
       "    <tr>\n",
       "      <th>10972</th>\n",
       "      <td>-0.981463</td>\n",
       "      <td>-0.806655</td>\n",
       "      <td>-0.947035</td>\n",
       "      <td>-0.772376</td>\n",
       "      <td>-0.636847</td>\n",
       "      <td>0.163175</td>\n",
       "      <td>-0.028160</td>\n",
       "    </tr>\n",
       "    <tr>\n",
       "      <th>1801</th>\n",
       "      <td>2.157555</td>\n",
       "      <td>0.921833</td>\n",
       "      <td>2.158923</td>\n",
       "      <td>0.673367</td>\n",
       "      <td>0.403998</td>\n",
       "      <td>-0.955087</td>\n",
       "      <td>0.374200</td>\n",
       "    </tr>\n",
       "    <tr>\n",
       "      <th>10641</th>\n",
       "      <td>1.111216</td>\n",
       "      <td>-0.509449</td>\n",
       "      <td>1.123604</td>\n",
       "      <td>0.673367</td>\n",
       "      <td>0.403998</td>\n",
       "      <td>0.170240</td>\n",
       "      <td>-2.200485</td>\n",
       "    </tr>\n",
       "  </tbody>\n",
       "</table>\n",
       "</div>"
      ],
      "text/plain": [
       "          Rooms     Price  Bedroom2  Bathroom       Car  Lattitude  Longtitude\n",
       "2770  -0.981463 -1.039727 -0.947035 -0.772376 -0.636847  -0.514747    0.489683\n",
       "4341  -0.981463 -0.546991 -0.947035 -0.772376 -0.636847   0.196863   -0.506355\n",
       "10972 -0.981463 -0.806655 -0.947035 -0.772376 -0.636847   0.163175   -0.028160\n",
       "1801   2.157555  0.921833  2.158923  0.673367  0.403998  -0.955087    0.374200\n",
       "10641  1.111216 -0.509449  1.123604  0.673367  0.403998   0.170240   -2.200485"
      ]
     },
     "execution_count": 55,
     "metadata": {},
     "output_type": "execute_result"
    }
   ],
   "source": [
    "scaledNumData.sample(5)"
   ]
  },
  {
   "cell_type": "code",
   "execution_count": 58,
   "id": "203282d5",
   "metadata": {},
   "outputs": [],
   "source": [
    "from sklearn.model_selection import train_test_split\n",
    "from sklearn.linear_model import LinearRegression"
   ]
  },
  {
   "cell_type": "code",
   "execution_count": 60,
   "id": "2a4e7ff1",
   "metadata": {},
   "outputs": [],
   "source": [
    "x = scaledNumData.drop(columns='Price')\n",
    "y = scaledNumData['Price']"
   ]
  },
  {
   "cell_type": "code",
   "execution_count": 61,
   "id": "d8f6223a",
   "metadata": {},
   "outputs": [],
   "source": [
    "xtrain, xtest, ytrain, ytest = train_test_split(x, y, test_size=0.2, random_state=18)"
   ]
  },
  {
   "cell_type": "code",
   "execution_count": 65,
   "id": "2bbbec3f",
   "metadata": {},
   "outputs": [
    {
     "data": {
      "text/html": [
       "<div>\n",
       "<style scoped>\n",
       "    .dataframe tbody tr th:only-of-type {\n",
       "        vertical-align: middle;\n",
       "    }\n",
       "\n",
       "    .dataframe tbody tr th {\n",
       "        vertical-align: top;\n",
       "    }\n",
       "\n",
       "    .dataframe thead th {\n",
       "        text-align: right;\n",
       "    }\n",
       "</style>\n",
       "<table border=\"1\" class=\"dataframe\">\n",
       "  <thead>\n",
       "    <tr style=\"text-align: right;\">\n",
       "      <th></th>\n",
       "      <th>Rooms</th>\n",
       "      <th>Bedroom2</th>\n",
       "      <th>Bathroom</th>\n",
       "      <th>Car</th>\n",
       "      <th>Lattitude</th>\n",
       "      <th>Longtitude</th>\n",
       "    </tr>\n",
       "  </thead>\n",
       "  <tbody>\n",
       "    <tr>\n",
       "      <th>6675</th>\n",
       "      <td>0.064876</td>\n",
       "      <td>-0.947035</td>\n",
       "      <td>-0.772376</td>\n",
       "      <td>-0.636847</td>\n",
       "      <td>-0.114782</td>\n",
       "      <td>-1.237745</td>\n",
       "    </tr>\n",
       "    <tr>\n",
       "      <th>12248</th>\n",
       "      <td>0.064876</td>\n",
       "      <td>0.088284</td>\n",
       "      <td>-0.772376</td>\n",
       "      <td>0.403998</td>\n",
       "      <td>1.419595</td>\n",
       "      <td>0.480541</td>\n",
       "    </tr>\n",
       "    <tr>\n",
       "      <th>10414</th>\n",
       "      <td>0.064876</td>\n",
       "      <td>0.088284</td>\n",
       "      <td>-0.772376</td>\n",
       "      <td>-1.677692</td>\n",
       "      <td>1.167756</td>\n",
       "      <td>1.170261</td>\n",
       "    </tr>\n",
       "    <tr>\n",
       "      <th>12139</th>\n",
       "      <td>-0.981463</td>\n",
       "      <td>-0.947035</td>\n",
       "      <td>-0.772376</td>\n",
       "      <td>-0.636847</td>\n",
       "      <td>-0.150110</td>\n",
       "      <td>0.036029</td>\n",
       "    </tr>\n",
       "    <tr>\n",
       "      <th>5651</th>\n",
       "      <td>-0.981463</td>\n",
       "      <td>-0.947035</td>\n",
       "      <td>-0.772376</td>\n",
       "      <td>-0.636847</td>\n",
       "      <td>-0.315395</td>\n",
       "      <td>-0.106015</td>\n",
       "    </tr>\n",
       "  </tbody>\n",
       "</table>\n",
       "</div>"
      ],
      "text/plain": [
       "          Rooms  Bedroom2  Bathroom       Car  Lattitude  Longtitude\n",
       "6675   0.064876 -0.947035 -0.772376 -0.636847  -0.114782   -1.237745\n",
       "12248  0.064876  0.088284 -0.772376  0.403998   1.419595    0.480541\n",
       "10414  0.064876  0.088284 -0.772376 -1.677692   1.167756    1.170261\n",
       "12139 -0.981463 -0.947035 -0.772376 -0.636847  -0.150110    0.036029\n",
       "5651  -0.981463 -0.947035 -0.772376 -0.636847  -0.315395   -0.106015"
      ]
     },
     "execution_count": 65,
     "metadata": {},
     "output_type": "execute_result"
    }
   ],
   "source": [
    "xtest.sample(5)"
   ]
  },
  {
   "cell_type": "code",
   "execution_count": 66,
   "id": "2e86100b",
   "metadata": {},
   "outputs": [
    {
     "data": {
      "text/plain": [
       "1481     0.014572\n",
       "5365     2.446969\n",
       "1542     0.522951\n",
       "11251    0.169432\n",
       "2895    -0.569672\n",
       "Name: Price, dtype: float64"
      ]
     },
     "execution_count": 66,
     "metadata": {},
     "output_type": "execute_result"
    }
   ],
   "source": [
    "ytest.sample(5)"
   ]
  },
  {
   "cell_type": "code",
   "execution_count": 67,
   "id": "a7a8435b",
   "metadata": {},
   "outputs": [
    {
     "data": {
      "text/plain": [
       "(10864, 6)"
      ]
     },
     "execution_count": 67,
     "metadata": {},
     "output_type": "execute_result"
    }
   ],
   "source": [
    "xtrain.shape"
   ]
  },
  {
   "cell_type": "code",
   "execution_count": 68,
   "id": "43a7b120",
   "metadata": {},
   "outputs": [
    {
     "data": {
      "text/plain": [
       "(2716, 6)"
      ]
     },
     "execution_count": 68,
     "metadata": {},
     "output_type": "execute_result"
    }
   ],
   "source": [
    "xtest.shape"
   ]
  },
  {
   "cell_type": "code",
   "execution_count": 69,
   "id": "6b6470f2",
   "metadata": {},
   "outputs": [
    {
     "data": {
      "text/plain": [
       "(13580, 7)"
      ]
     },
     "execution_count": 69,
     "metadata": {},
     "output_type": "execute_result"
    }
   ],
   "source": [
    "scaledNumData.shape"
   ]
  },
  {
   "cell_type": "code",
   "execution_count": 73,
   "id": "68756695",
   "metadata": {},
   "outputs": [
    {
     "data": {
      "text/html": [
       "<div>\n",
       "<style scoped>\n",
       "    .dataframe tbody tr th:only-of-type {\n",
       "        vertical-align: middle;\n",
       "    }\n",
       "\n",
       "    .dataframe tbody tr th {\n",
       "        vertical-align: top;\n",
       "    }\n",
       "\n",
       "    .dataframe thead th {\n",
       "        text-align: right;\n",
       "    }\n",
       "</style>\n",
       "<table border=\"1\" class=\"dataframe\">\n",
       "  <thead>\n",
       "    <tr style=\"text-align: right;\">\n",
       "      <th></th>\n",
       "      <th>Rooms</th>\n",
       "      <th>Bedroom2</th>\n",
       "      <th>Bathroom</th>\n",
       "      <th>Car</th>\n",
       "      <th>Lattitude</th>\n",
       "      <th>Longtitude</th>\n",
       "    </tr>\n",
       "  </thead>\n",
       "  <tbody>\n",
       "    <tr>\n",
       "      <th>2454</th>\n",
       "      <td>-0.981463</td>\n",
       "      <td>-0.947035</td>\n",
       "      <td>-0.772376</td>\n",
       "      <td>-0.636847</td>\n",
       "      <td>0.778516</td>\n",
       "      <td>-0.955775</td>\n",
       "    </tr>\n",
       "    <tr>\n",
       "      <th>13030</th>\n",
       "      <td>0.064876</td>\n",
       "      <td>0.088284</td>\n",
       "      <td>-0.772376</td>\n",
       "      <td>-1.677692</td>\n",
       "      <td>0.306002</td>\n",
       "      <td>3.817507</td>\n",
       "    </tr>\n",
       "    <tr>\n",
       "      <th>5490</th>\n",
       "      <td>0.064876</td>\n",
       "      <td>0.088284</td>\n",
       "      <td>2.119109</td>\n",
       "      <td>0.403998</td>\n",
       "      <td>0.074476</td>\n",
       "      <td>-1.015441</td>\n",
       "    </tr>\n",
       "    <tr>\n",
       "      <th>2796</th>\n",
       "      <td>2.157555</td>\n",
       "      <td>2.158923</td>\n",
       "      <td>2.119109</td>\n",
       "      <td>-0.636847</td>\n",
       "      <td>-0.594236</td>\n",
       "      <td>0.728347</td>\n",
       "    </tr>\n",
       "    <tr>\n",
       "      <th>12271</th>\n",
       "      <td>0.064876</td>\n",
       "      <td>0.088284</td>\n",
       "      <td>0.673367</td>\n",
       "      <td>-0.636847</td>\n",
       "      <td>0.538410</td>\n",
       "      <td>2.852554</td>\n",
       "    </tr>\n",
       "  </tbody>\n",
       "</table>\n",
       "</div>"
      ],
      "text/plain": [
       "          Rooms  Bedroom2  Bathroom       Car  Lattitude  Longtitude\n",
       "2454  -0.981463 -0.947035 -0.772376 -0.636847   0.778516   -0.955775\n",
       "13030  0.064876  0.088284 -0.772376 -1.677692   0.306002    3.817507\n",
       "5490   0.064876  0.088284  2.119109  0.403998   0.074476   -1.015441\n",
       "2796   2.157555  2.158923  2.119109 -0.636847  -0.594236    0.728347\n",
       "12271  0.064876  0.088284  0.673367 -0.636847   0.538410    2.852554"
      ]
     },
     "execution_count": 73,
     "metadata": {},
     "output_type": "execute_result"
    }
   ],
   "source": [
    "xtrain.head(5)"
   ]
  },
  {
   "cell_type": "code",
   "execution_count": 74,
   "id": "3e7003eb",
   "metadata": {},
   "outputs": [
    {
     "data": {
      "text/plain": [
       "2454    -0.673694\n",
       "13030   -0.877046\n",
       "5490     0.429097\n",
       "2796     1.445854\n",
       "12271   -0.342075\n",
       "Name: Price, dtype: float64"
      ]
     },
     "execution_count": 74,
     "metadata": {},
     "output_type": "execute_result"
    }
   ],
   "source": [
    "ytrain.head(5)"
   ]
  },
  {
   "cell_type": "code",
   "execution_count": 70,
   "id": "10657654",
   "metadata": {},
   "outputs": [],
   "source": [
    "linReg = LinearRegression()"
   ]
  },
  {
   "cell_type": "code",
   "execution_count": 75,
   "id": "654d7070",
   "metadata": {},
   "outputs": [],
   "source": [
    "fittedLinReg = linReg.fit(xtrain, ytrain)"
   ]
  },
  {
   "cell_type": "code",
   "execution_count": 77,
   "id": "10889240",
   "metadata": {},
   "outputs": [],
   "source": [
    "prediction = fittedLinReg.predict(xtest)"
   ]
  },
  {
   "cell_type": "code",
   "execution_count": 79,
   "id": "c777f583",
   "metadata": {},
   "outputs": [
    {
     "data": {
      "text/plain": [
       "(2716,)"
      ]
     },
     "execution_count": 79,
     "metadata": {},
     "output_type": "execute_result"
    }
   ],
   "source": [
    "prediction.shape"
   ]
  },
  {
   "cell_type": "code",
   "execution_count": 80,
   "id": "a673ac42",
   "metadata": {},
   "outputs": [
    {
     "data": {
      "text/plain": [
       "(2716,)"
      ]
     },
     "execution_count": 80,
     "metadata": {},
     "output_type": "execute_result"
    }
   ],
   "source": [
    "ytest.shape"
   ]
  },
  {
   "cell_type": "code",
   "execution_count": 127,
   "id": "e9f88e2b",
   "metadata": {},
   "outputs": [],
   "source": [
    "from sklearn.metrics import mean_squared_error, mean_absolute_percentage_error"
   ]
  },
  {
   "cell_type": "code",
   "execution_count": 84,
   "id": "0d747086",
   "metadata": {},
   "outputs": [],
   "source": [
    "mse = mean_squared_error(prediction, ytest)"
   ]
  },
  {
   "cell_type": "code",
   "execution_count": 85,
   "id": "c6bf460b",
   "metadata": {},
   "outputs": [],
   "source": [
    "rmse = mse ** 1/2"
   ]
  },
  {
   "cell_type": "code",
   "execution_count": 86,
   "id": "c7b9b357",
   "metadata": {},
   "outputs": [
    {
     "data": {
      "text/plain": [
       "0.65138047615501"
      ]
     },
     "execution_count": 86,
     "metadata": {},
     "output_type": "execute_result"
    }
   ],
   "source": [
    "mse"
   ]
  },
  {
   "cell_type": "code",
   "execution_count": 87,
   "id": "28085b69",
   "metadata": {},
   "outputs": [
    {
     "data": {
      "text/plain": [
       "0.325690238077505"
      ]
     },
     "execution_count": 87,
     "metadata": {},
     "output_type": "execute_result"
    }
   ],
   "source": [
    "rmse"
   ]
  },
  {
   "cell_type": "code",
   "execution_count": 128,
   "id": "d780e5ed",
   "metadata": {},
   "outputs": [],
   "source": [
    "mape = mean_absolute_percentage_error(prediction, ytest)"
   ]
  },
  {
   "cell_type": "code",
   "execution_count": 130,
   "id": "077c2c67",
   "metadata": {},
   "outputs": [
    {
     "data": {
      "text/plain": [
       "4.257167084646383"
      ]
     },
     "execution_count": 130,
     "metadata": {},
     "output_type": "execute_result"
    }
   ],
   "source": [
    "mape"
   ]
  },
  {
   "cell_type": "code",
   "execution_count": 132,
   "id": "b271379b",
   "metadata": {},
   "outputs": [],
   "source": [
    "resultScaler = StandardScaler()"
   ]
  },
  {
   "cell_type": "code",
   "execution_count": 134,
   "id": "d58a9bd3",
   "metadata": {},
   "outputs": [
    {
     "data": {
      "text/plain": [
       "StandardScaler()"
      ]
     },
     "execution_count": 134,
     "metadata": {},
     "output_type": "execute_result"
    }
   ],
   "source": [
    "resultScaler.fit(numData.Price.values.reshape(-1,1))"
   ]
  },
  {
   "cell_type": "code",
   "execution_count": 137,
   "id": "2e2b6c75",
   "metadata": {},
   "outputs": [],
   "source": [
    "finalPrediction = resultScaler.inverse_transform(prediction.reshape(-1,1))"
   ]
  },
  {
   "cell_type": "code",
   "execution_count": 138,
   "id": "b1c43f56",
   "metadata": {},
   "outputs": [],
   "source": [
    "finalActual = resultScaler.inverse_transform(ytest.values.reshape(-1,1))"
   ]
  },
  {
   "cell_type": "code",
   "execution_count": 152,
   "id": "3ed4671c",
   "metadata": {},
   "outputs": [],
   "source": [
    "finalDataFrame = pd.DataFrame({'ActualPrice': finalActual.flatten(), 'PredictedPrice': finalPrediction.flatten()})"
   ]
  },
  {
   "cell_type": "code",
   "execution_count": 153,
   "id": "009379c4",
   "metadata": {},
   "outputs": [
    {
     "data": {
      "text/html": [
       "<div>\n",
       "<style scoped>\n",
       "    .dataframe tbody tr th:only-of-type {\n",
       "        vertical-align: middle;\n",
       "    }\n",
       "\n",
       "    .dataframe tbody tr th {\n",
       "        vertical-align: top;\n",
       "    }\n",
       "\n",
       "    .dataframe thead th {\n",
       "        text-align: right;\n",
       "    }\n",
       "</style>\n",
       "<table border=\"1\" class=\"dataframe\">\n",
       "  <thead>\n",
       "    <tr style=\"text-align: right;\">\n",
       "      <th></th>\n",
       "      <th>ActualPrice</th>\n",
       "      <th>PredictedPrice</th>\n",
       "    </tr>\n",
       "  </thead>\n",
       "  <tbody>\n",
       "    <tr>\n",
       "      <th>0</th>\n",
       "      <td>681000.0</td>\n",
       "      <td>9.054376e+05</td>\n",
       "    </tr>\n",
       "    <tr>\n",
       "      <th>1</th>\n",
       "      <td>800000.0</td>\n",
       "      <td>1.078255e+06</td>\n",
       "    </tr>\n",
       "    <tr>\n",
       "      <th>2</th>\n",
       "      <td>850500.0</td>\n",
       "      <td>1.313423e+06</td>\n",
       "    </tr>\n",
       "    <tr>\n",
       "      <th>3</th>\n",
       "      <td>655000.0</td>\n",
       "      <td>7.961349e+05</td>\n",
       "    </tr>\n",
       "    <tr>\n",
       "      <th>4</th>\n",
       "      <td>1475000.0</td>\n",
       "      <td>1.694530e+06</td>\n",
       "    </tr>\n",
       "    <tr>\n",
       "      <th>...</th>\n",
       "      <td>...</td>\n",
       "      <td>...</td>\n",
       "    </tr>\n",
       "    <tr>\n",
       "      <th>2711</th>\n",
       "      <td>1060000.0</td>\n",
       "      <td>7.165487e+05</td>\n",
       "    </tr>\n",
       "    <tr>\n",
       "      <th>2712</th>\n",
       "      <td>500000.0</td>\n",
       "      <td>7.917347e+05</td>\n",
       "    </tr>\n",
       "    <tr>\n",
       "      <th>2713</th>\n",
       "      <td>1850000.0</td>\n",
       "      <td>1.199985e+06</td>\n",
       "    </tr>\n",
       "    <tr>\n",
       "      <th>2714</th>\n",
       "      <td>323000.0</td>\n",
       "      <td>6.078197e+05</td>\n",
       "    </tr>\n",
       "    <tr>\n",
       "      <th>2715</th>\n",
       "      <td>313000.0</td>\n",
       "      <td>6.037369e+05</td>\n",
       "    </tr>\n",
       "  </tbody>\n",
       "</table>\n",
       "<p>2716 rows × 2 columns</p>\n",
       "</div>"
      ],
      "text/plain": [
       "      ActualPrice  PredictedPrice\n",
       "0        681000.0    9.054376e+05\n",
       "1        800000.0    1.078255e+06\n",
       "2        850500.0    1.313423e+06\n",
       "3        655000.0    7.961349e+05\n",
       "4       1475000.0    1.694530e+06\n",
       "...           ...             ...\n",
       "2711    1060000.0    7.165487e+05\n",
       "2712     500000.0    7.917347e+05\n",
       "2713    1850000.0    1.199985e+06\n",
       "2714     323000.0    6.078197e+05\n",
       "2715     313000.0    6.037369e+05\n",
       "\n",
       "[2716 rows x 2 columns]"
      ]
     },
     "execution_count": 153,
     "metadata": {},
     "output_type": "execute_result"
    }
   ],
   "source": [
    "finalDataFrame"
   ]
  },
  {
   "cell_type": "code",
   "execution_count": 149,
   "id": "2b8fb354",
   "metadata": {},
   "outputs": [],
   "source": [
    "finalDataFrame['ActualPrice'] = finalDataFrame['ActualPrice'].map('${:,.2f}'.format)\n",
    "finalDataFrame['PredictedPrice'] = finalDataFrame['PredictedPrice'].map('${:,.2f}'.format)"
   ]
  },
  {
   "cell_type": "code",
   "execution_count": 151,
   "id": "49b1af19",
   "metadata": {},
   "outputs": [
    {
     "data": {
      "text/html": [
       "<div>\n",
       "<style scoped>\n",
       "    .dataframe tbody tr th:only-of-type {\n",
       "        vertical-align: middle;\n",
       "    }\n",
       "\n",
       "    .dataframe tbody tr th {\n",
       "        vertical-align: top;\n",
       "    }\n",
       "\n",
       "    .dataframe thead th {\n",
       "        text-align: right;\n",
       "    }\n",
       "</style>\n",
       "<table border=\"1\" class=\"dataframe\">\n",
       "  <thead>\n",
       "    <tr style=\"text-align: right;\">\n",
       "      <th></th>\n",
       "      <th>ActualPrice</th>\n",
       "      <th>PredictedPrice</th>\n",
       "    </tr>\n",
       "  </thead>\n",
       "  <tbody>\n",
       "    <tr>\n",
       "      <th>719</th>\n",
       "      <td>$710,000.00</td>\n",
       "      <td>$1,045,285.42</td>\n",
       "    </tr>\n",
       "    <tr>\n",
       "      <th>1627</th>\n",
       "      <td>$1,290,000.00</td>\n",
       "      <td>$979,473.81</td>\n",
       "    </tr>\n",
       "    <tr>\n",
       "      <th>2433</th>\n",
       "      <td>$590,000.00</td>\n",
       "      <td>$862,560.75</td>\n",
       "    </tr>\n",
       "    <tr>\n",
       "      <th>584</th>\n",
       "      <td>$1,300,000.00</td>\n",
       "      <td>$1,513,812.09</td>\n",
       "    </tr>\n",
       "    <tr>\n",
       "      <th>2317</th>\n",
       "      <td>$886,000.00</td>\n",
       "      <td>$1,370,922.05</td>\n",
       "    </tr>\n",
       "    <tr>\n",
       "      <th>1631</th>\n",
       "      <td>$807,000.00</td>\n",
       "      <td>$864,281.91</td>\n",
       "    </tr>\n",
       "    <tr>\n",
       "      <th>317</th>\n",
       "      <td>$900,000.00</td>\n",
       "      <td>$865,602.73</td>\n",
       "    </tr>\n",
       "    <tr>\n",
       "      <th>1904</th>\n",
       "      <td>$2,900,000.00</td>\n",
       "      <td>$1,989,942.63</td>\n",
       "    </tr>\n",
       "    <tr>\n",
       "      <th>2664</th>\n",
       "      <td>$3,250,000.00</td>\n",
       "      <td>$1,484,104.68</td>\n",
       "    </tr>\n",
       "    <tr>\n",
       "      <th>850</th>\n",
       "      <td>$535,000.00</td>\n",
       "      <td>$808,006.31</td>\n",
       "    </tr>\n",
       "    <tr>\n",
       "      <th>983</th>\n",
       "      <td>$600,000.00</td>\n",
       "      <td>$911,830.54</td>\n",
       "    </tr>\n",
       "    <tr>\n",
       "      <th>1502</th>\n",
       "      <td>$955,000.00</td>\n",
       "      <td>$2,157,657.85</td>\n",
       "    </tr>\n",
       "    <tr>\n",
       "      <th>2406</th>\n",
       "      <td>$1,335,000.00</td>\n",
       "      <td>$913,136.87</td>\n",
       "    </tr>\n",
       "    <tr>\n",
       "      <th>1458</th>\n",
       "      <td>$335,000.00</td>\n",
       "      <td>$726,396.46</td>\n",
       "    </tr>\n",
       "    <tr>\n",
       "      <th>773</th>\n",
       "      <td>$1,012,000.00</td>\n",
       "      <td>$884,339.74</td>\n",
       "    </tr>\n",
       "  </tbody>\n",
       "</table>\n",
       "</div>"
      ],
      "text/plain": [
       "        ActualPrice PredictedPrice\n",
       "719     $710,000.00  $1,045,285.42\n",
       "1627  $1,290,000.00    $979,473.81\n",
       "2433    $590,000.00    $862,560.75\n",
       "584   $1,300,000.00  $1,513,812.09\n",
       "2317    $886,000.00  $1,370,922.05\n",
       "1631    $807,000.00    $864,281.91\n",
       "317     $900,000.00    $865,602.73\n",
       "1904  $2,900,000.00  $1,989,942.63\n",
       "2664  $3,250,000.00  $1,484,104.68\n",
       "850     $535,000.00    $808,006.31\n",
       "983     $600,000.00    $911,830.54\n",
       "1502    $955,000.00  $2,157,657.85\n",
       "2406  $1,335,000.00    $913,136.87\n",
       "1458    $335,000.00    $726,396.46\n",
       "773   $1,012,000.00    $884,339.74"
      ]
     },
     "execution_count": 151,
     "metadata": {},
     "output_type": "execute_result"
    }
   ],
   "source": [
    "finalDataFrame.sample(15)"
   ]
  }
 ],
 "metadata": {
  "kernelspec": {
   "display_name": "Python 3 (ipykernel)",
   "language": "python",
   "name": "python3"
  },
  "language_info": {
   "codemirror_mode": {
    "name": "ipython",
    "version": 3
   },
   "file_extension": ".py",
   "mimetype": "text/x-python",
   "name": "python",
   "nbconvert_exporter": "python",
   "pygments_lexer": "ipython3",
   "version": "3.11.5"
  }
 },
 "nbformat": 4,
 "nbformat_minor": 5
}
